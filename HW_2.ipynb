{
  "nbformat": 4,
  "nbformat_minor": 0,
  "metadata": {
    "colab": {
      "name": "HW 2.ipynb",
      "provenance": [],
      "collapsed_sections": [],
      "authorship_tag": "ABX9TyO2mXtM+72gH1tYoa8W5xAw",
      "include_colab_link": true
    },
    "kernelspec": {
      "name": "python3",
      "display_name": "Python 3"
    }
  },
  "cells": [
    {
      "cell_type": "markdown",
      "metadata": {
        "id": "view-in-github",
        "colab_type": "text"
      },
      "source": [
        "<a href=\"https://colab.research.google.com/github/panzershracker/Optimization-methods/blob/master/HW_2.ipynb\" target=\"_parent\"><img src=\"https://colab.research.google.com/assets/colab-badge.svg\" alt=\"Open In Colab\"/></a>"
      ]
    },
    {
      "cell_type": "markdown",
      "metadata": {
        "id": "nWNgrNat38g_",
        "colab_type": "text"
      },
      "source": [
        "# Домашнее задание к уроку №2. Евдокимов Алексей"
      ]
    },
    {
      "cell_type": "markdown",
      "metadata": {
        "id": "MpjZdP9t4CIN",
        "colab_type": "text"
      },
      "source": [
        "#Задание\n",
        "\n",
        "##Задача 1\n",
        "\n",
        "Директор выделил машину под закупку оборудования, выделил достаточно большое количество денег и сказал: «Берите, что вам нужно, но не более 200 кг. И каждого товара берите не более одной единицы!» Есть прайс-лист на 2000 наименований.\n",
        "Стоимости товаров варьируются от \\$100 до \\$5000 с шагом \\$100.\n",
        "Массы товаров варьируются от 1 до 150 кг с шагом в 1 кг.\n",
        "Зависимостей между массой и стоимостью нет (может выпасть товар массой 1 кг и стоимостью \\$5000 и массой 150 кг и стоимостью \\$100.\n",
        "1. Необходимо составить ЦФ для этой задачи, выбрать критерий оптимальности и...\n",
        "2. *...предложить алгоритм её решения."
      ]
    },
    {
      "cell_type": "code",
      "metadata": {
        "id": "RrfXBEEl3SnE",
        "colab_type": "code",
        "colab": {}
      },
      "source": [
        "import numpy as np\n",
        "import matplotlib.pyplot as plt\n",
        "import itertools as it\n",
        "import random"
      ],
      "execution_count": null,
      "outputs": []
    },
    {
      "cell_type": "markdown",
      "metadata": {
        "id": "zDIMiT7U6xxV",
        "colab_type": "text"
      },
      "source": [
        "В качестве критерия выберем максимальную загрузку машины при минимально затраченной сумме на покупку и максимальном кол-ве товаров."
      ]
    },
    {
      "cell_type": "code",
      "metadata": {
        "id": "u7-i3-E96s7w",
        "colab_type": "code",
        "colab": {}
      },
      "source": [
        "# Создадим рандомизированный прайс, где индекс это наименование товара, \n",
        "# а вложенный список из первого и второго числа это вес и цена соответственно\n",
        "\n",
        "indices = np.arange(0, 2001, 1)\n",
        "prices = [random.randrange(100, 5000, 100) for i in range(2000)]\n",
        "weights = [random.randrange(1, 150, 1) for i in range(2000)]\n",
        "\n",
        "total_lst = list(zip(indices, weights, prices))"
      ],
      "execution_count": null,
      "outputs": []
    },
    {
      "cell_type": "markdown",
      "metadata": {
        "id": "6R9JLhVfMLaM",
        "colab_type": "text"
      },
      "source": [
        "Т.к. кол-во товаров не может быть больше 200 - отсортируем списки по весу и по цене и возьмем первые 200 элементов."
      ]
    },
    {
      "cell_type": "code",
      "metadata": {
        "id": "HuJZNT6ufjMo",
        "colab_type": "code",
        "colab": {}
      },
      "source": [
        "by_weight = sorted(total_lst, key=lambda x: x[1])[:1000]\n",
        "by_price = sorted(total_lst, key=lambda x: x[2])[:1000]"
      ],
      "execution_count": null,
      "outputs": []
    },
    {
      "cell_type": "markdown",
      "metadata": {
        "id": "qli8JLx8MdGd",
        "colab_type": "text"
      },
      "source": [
        "Создадим общий список пересечения товаров из первого и второго списков."
      ]
    },
    {
      "cell_type": "code",
      "metadata": {
        "id": "Np_ynMcygWMK",
        "colab_type": "code",
        "colab": {}
      },
      "source": [
        "best_choice = sorted(list(set(by_weight) & set(by_price)), key=lambda x: x[1])"
      ],
      "execution_count": null,
      "outputs": []
    },
    {
      "cell_type": "markdown",
      "metadata": {
        "id": "M2S9-gPSMlZQ",
        "colab_type": "text"
      },
      "source": [
        "Итеративно пробежимся по нему до тех пор, пока суммарная масса не приблизится к 200. Добавим критерий останова, где цикл завершается, если масса менее 200, но следующий элемент вызовет перегруз. По логике общая цена будет минимальна, кол-во товаров максимально, вес доведен до возможного максимума."
      ]
    },
    {
      "cell_type": "code",
      "metadata": {
        "id": "reS-846RhExA",
        "colab_type": "code",
        "colab": {}
      },
      "source": [
        "sum_weight = 0\n",
        "sum_price = 0\n",
        "sum_qty = 0\n",
        "\n",
        "for i in range(len(best_choice)):\n",
        "  if sum_weight < 200 and best_choice[i][1] + sum_weight < 200:\n",
        "    sum_weight += best_choice[i][1]\n",
        "    sum_price += best_choice[i][2]\n",
        "    sum_qty += 1\n",
        "  else:\n",
        "    break"
      ],
      "execution_count": null,
      "outputs": []
    },
    {
      "cell_type": "code",
      "metadata": {
        "id": "NVMGMYKci0tF",
        "colab_type": "code",
        "colab": {
          "base_uri": "https://localhost:8080/",
          "height": 67
        },
        "outputId": "726586be-52cb-4aaf-eb31-a79117215110"
      },
      "source": [
        "print(f'Общий вес = {sum_weight}')\n",
        "print(f'Общая стоимость = {sum_price}')\n",
        "print(f'кол-во товаров = {sum_qty}')\n"
      ],
      "execution_count": null,
      "outputs": [
        {
          "output_type": "stream",
          "text": [
            "Общий вес = 196\n",
            "Общая стоимость = 63800\n",
            "кол-во товаров = 48\n"
          ],
          "name": "stdout"
        }
      ]
    },
    {
      "cell_type": "markdown",
      "metadata": {
        "id": "ndIPsMeKnOee",
        "colab_type": "text"
      },
      "source": [
        "Все таки данный алгоритм не оптимален. "
      ]
    },
    {
      "cell_type": "markdown",
      "metadata": {
        "id": "ktn-NeiyQLo-",
        "colab_type": "text"
      },
      "source": [
        "# Второй вариант \n",
        "\n",
        "отсортируем по весу, а затем будем класть в корзину до порога по весу, т.к. вес основной критерий."
      ]
    },
    {
      "cell_type": "code",
      "metadata": {
        "id": "_teDTbNoQdxv",
        "colab_type": "code",
        "colab": {}
      },
      "source": [
        "sort_by_weight = sorted(total_lst, key=lambda x: x[1])"
      ],
      "execution_count": null,
      "outputs": []
    },
    {
      "cell_type": "code",
      "metadata": {
        "id": "1n0b1fppRD1v",
        "colab_type": "code",
        "colab": {}
      },
      "source": [
        "sum_weight = 0\n",
        "sum_price = 0\n",
        "sum_qty = 0\n",
        "\n",
        "for i in range(len(sort_by_weight)):\n",
        "    if sum_weight < 200 and sort_by_weight[i][1] + sum_weight < 200:\n",
        "      sum_weight += sort_by_weight[i][1]\n",
        "      sum_price += sort_by_weight[i][2]\n",
        "      sum_qty += 1\n",
        "    else:\n",
        "      break"
      ],
      "execution_count": null,
      "outputs": []
    },
    {
      "cell_type": "code",
      "metadata": {
        "id": "m9Sm5Eyol8FJ",
        "colab_type": "code",
        "colab": {
          "base_uri": "https://localhost:8080/",
          "height": 67
        },
        "outputId": "bf0a3f80-41c5-4796-f542-176bc353afe2"
      },
      "source": [
        "print(f'Общий вес = {sum_weight}')\n",
        "print(f'Общая стоимость = {sum_price}')\n",
        "print(f'кол-во товаров = {sum_qty}')"
      ],
      "execution_count": null,
      "outputs": [
        {
          "output_type": "stream",
          "text": [
            "Общий вес = 195\n",
            "Общая стоимость = 172500\n",
            "кол-во товаров = 66\n"
          ],
          "name": "stdout"
        }
      ]
    },
    {
      "cell_type": "markdown",
      "metadata": {
        "id": "SnH8iSz7m4zb",
        "colab_type": "text"
      },
      "source": [
        "Наверное здесь минимизирован вес, но не общая стоимость."
      ]
    },
    {
      "cell_type": "code",
      "metadata": {
        "id": "oHsClQnu_RRy",
        "colab_type": "code",
        "colab": {}
      },
      "source": [
        "# uniq_weights = list(set(weights))\n",
        "# weights_ranks = []\n",
        "\n",
        "# for i in range(len(weights)):\n",
        "#   val = weights[i]\n",
        "#   weights_ranks.append(uniq_weights.index(val))"
      ],
      "execution_count": null,
      "outputs": []
    },
    {
      "cell_type": "code",
      "metadata": {
        "id": "34d2dMyrI-9I",
        "colab_type": "code",
        "colab": {}
      },
      "source": [
        "# uniq_prices = list(set(prices))\n",
        "# prices_ranks = []\n",
        "\n",
        "# for i in range(len(prices)):\n",
        "#   val = prices[i]\n",
        "#   prices_ranks.append(uniq_prices.index(val))"
      ],
      "execution_count": null,
      "outputs": []
    },
    {
      "cell_type": "code",
      "metadata": {
        "id": "HDdu-uGlJpOn",
        "colab_type": "code",
        "colab": {}
      },
      "source": [
        "# price_coef = [p / w for p,w in zip(prices, weights)]\n",
        "# weight_coef = [w / p for w,p in zip(weights, prices)]\n",
        "\n",
        "# main_coef = [(wr * wc) * (pr * pc) for wr,pr,pc,wc in zip(weights_ranks, prices_ranks, price_coef, weight_coef)]\n",
        "# main_coef = sorted(list(zip(indices, main_coef)), key=lambda x: x[1])"
      ],
      "execution_count": 225,
      "outputs": []
    },
    {
      "cell_type": "markdown",
      "metadata": {
        "id": "bZ7wc-UHrVJs",
        "colab_type": "text"
      },
      "source": [
        "Были еще варианты, но они оказались бесполезны. Например, закодировать пары чисел(вес, цена) в некоторое число, которое являлось бы рейтингом товара, но все варианты провалились. Так же пробовал работать с нормализованными парами чисел - тоже неудачно. Но все таки я уверен, что существует оптимальный спосов реализовать задуманное с использованием разумного кол-ва ресурсов и не используя грубые методы вроде комбинаций"
      ]
    },
    {
      "cell_type": "markdown",
      "metadata": {
        "id": "ri_P3VPK9VKt",
        "colab_type": "text"
      },
      "source": [
        "##Задача 2\n",
        "\n",
        "Предприятие выпускает покрышки и надувные лодки.\n",
        "Производство одной покрышки занимает 2 часа на заготовительном участке, 4 часа на участке обработки, 0 часов на участке сборки.\n",
        "Производство одной лодки занимает 6 часов на заготовительном участке, 3 часа на участке обработки, 2 часа на участке сборки.\n",
        "Стоимость одной лодки — 12000 рублей, стоимость покрышки — 7000 рублей.\n",
        "Фонд времени в день: заготовительного участка — 14 нормочасов, участка обработки — 10 нч, участка сборки — 8 нч.\n",
        "1. Составить ЦФ, записать ограничения и функцию Лагранжа для решения этой задачи.\n",
        "* Разработать оптимальный производственный план предприятия."
      ]
    },
    {
      "cell_type": "markdown",
      "metadata": {
        "id": "48RDgOg2lE3d",
        "colab_type": "text"
      },
      "source": [
        "\n",
        "$n_1$ - количество производимых покрышек<br>\n",
        "$n_2$ - количество производимых лодок<br>\n",
        "\n",
        "Целевая Функция: $F = 7000\\cdot n_1 + 12000 \\cdot n_2$<br>\n",
        "Критерий оптимальности: $(n_1^*, n_2^*): F(n_1^*, n_2^*) = \\max(F)$<br>\n",
        "Ограничения:<br>\n",
        "$2\\cdot n_1 +  6 \\cdot n_2 \\leq 14$ - ограничение заготовительного участка<br>\n",
        "$4\\cdot n_1 +  3 \\cdot n_2 \\leq 10$ - ограничение участка обработки<br>\n",
        "$0\\cdot n_1 +  2 \\cdot n_2 \\leq 8$ - ограничение участка сборки<br>"
      ]
    },
    {
      "cell_type": "markdown",
      "metadata": {
        "id": "_4ohh3aWlgR_",
        "colab_type": "text"
      },
      "source": [
        "$L(n_1,n_2,\\lambda_1,\\lambda_2, \\lambda_3) = 7000 n_1 + 12000  n_2 + \\lambda_1(2 n_1 +  6 n_2 - 14) + \\lambda_2(4 n_1 +  3 n_2 - 10) + \\lambda_3(2  n_2 - 8)$<br>"
      ]
    },
    {
      "cell_type": "code",
      "metadata": {
        "id": "V4xULlyqrUoi",
        "colab_type": "code",
        "colab": {}
      },
      "source": [
        "time = np.array([[2,6],[4,3],[0,2]])\n",
        "norm = np.array([14,10,8])\n",
        "\n",
        "result = np.linalg.lstsq(time, norm, rcond=None)"
      ],
      "execution_count": null,
      "outputs": []
    },
    {
      "cell_type": "code",
      "metadata": {
        "id": "ydhFlCEZ5Lr9",
        "colab_type": "code",
        "colab": {}
      },
      "source": [
        "# результат в целых числах\n",
        "\n",
        "wheels, boats = int(result[0][0]), int(result[0][1])"
      ],
      "execution_count": null,
      "outputs": []
    },
    {
      "cell_type": "code",
      "metadata": {
        "id": "6eafrq0j5i5u",
        "colab_type": "code",
        "colab": {}
      },
      "source": [
        "wheels, boats"
      ],
      "execution_count": null,
      "outputs": []
    }
  ]
}