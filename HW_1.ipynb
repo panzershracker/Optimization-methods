{
  "nbformat": 4,
  "nbformat_minor": 0,
  "metadata": {
    "colab": {
      "name": "HW 1.ipynb",
      "provenance": [],
      "collapsed_sections": [],
      "authorship_tag": "ABX9TyMTgaIy9q6zdJyc107g6lnF",
      "include_colab_link": true
    },
    "kernelspec": {
      "name": "python3",
      "display_name": "Python 3"
    }
  },
  "cells": [
    {
      "cell_type": "markdown",
      "metadata": {
        "id": "view-in-github",
        "colab_type": "text"
      },
      "source": [
        "<a href=\"https://colab.research.google.com/github/panzershracker/Optimization-methods/blob/master/HW_1.ipynb\" target=\"_parent\"><img src=\"https://colab.research.google.com/assets/colab-badge.svg\" alt=\"Open In Colab\"/></a>"
      ]
    },
    {
      "cell_type": "markdown",
      "metadata": {
        "id": "1L4pXg8jMXqk",
        "colab_type": "text"
      },
      "source": [
        "# Методы оптимизации. 1 урок. Евдокимов Алексей"
      ]
    },
    {
      "cell_type": "markdown",
      "metadata": {
        "id": "IwdgnEfSMuH7",
        "colab_type": "text"
      },
      "source": [
        "# Задание\n",
        "\n",
        "В проектируемой локальной сети есть заданное количество компьютеров.\n",
        "Есть расстояния от каждого компьютера до сервера и до остальных компьютеров. Маршрутизаторы соединяются с сервером через оптоволокно стоимостью 12 р/м, а компьютеры - с маршрутизаторами соединяются через витую пару стоимостью 30 р/м.\n",
        "Каждый маршрутизатор имеет 8 портов для витой пары и один оптический порт.\n",
        "Сервер имеет неограниченное число оптических портов и портов для витой пары. Компьютер может соединяться с сервером напрямую или через маршрутизатор.\n",
        "1. Построить ЦФ для расчёта стоимости оборудования ЛВС в общем виде. Учесть стоимость маршрутизатора, обоснованность его установки.\n",
        "2. Построить поверхность стоимости от сумм расстояний для конкретного примера. Количество компьютеров — больше двух, располагаются не на одной линии в одной четверти относительно сервера.*"
      ]
    },
    {
      "cell_type": "code",
      "metadata": {
        "id": "-TMnpBt3MTG7",
        "colab_type": "code",
        "colab": {}
      },
      "source": [
        "import matplotlib.pyplot as plt\n",
        "import numpy as np\n"
      ],
      "execution_count": 236,
      "outputs": []
    },
    {
      "cell_type": "code",
      "metadata": {
        "id": "Uo2MisTiW9SA",
        "colab_type": "code",
        "colab": {}
      },
      "source": [
        "price_opt = 12\n",
        "price_twp = 30\n",
        "price_router = 1000"
      ],
      "execution_count": 237,
      "outputs": []
    },
    {
      "cell_type": "code",
      "metadata": {
        "id": "6Cq3g8-iVGRg",
        "colab_type": "code",
        "colab": {}
      },
      "source": [
        "server_cord = (0,0)\n",
        "all_comp_x = [np.random.randint(5,25) for i in range(3)]\n",
        "all_comp_y = [np.random.randint(5,25) for i in range(3)]"
      ],
      "execution_count": 238,
      "outputs": []
    },
    {
      "cell_type": "code",
      "metadata": {
        "id": "eskLEd7tX1Mu",
        "colab_type": "code",
        "colab": {
          "base_uri": "https://localhost:8080/",
          "height": 35
        },
        "outputId": "0e02f43b-1630-4390-fca2-ab171b1b63e9"
      },
      "source": [
        "all_comp_x, all_comp_y"
      ],
      "execution_count": 239,
      "outputs": [
        {
          "output_type": "execute_result",
          "data": {
            "text/plain": [
              "([21, 17, 7], [10, 5, 24])"
            ]
          },
          "metadata": {
            "tags": []
          },
          "execution_count": 239
        }
      ]
    },
    {
      "cell_type": "code",
      "metadata": {
        "id": "I7fjZG3PUQwG",
        "colab_type": "code",
        "colab": {
          "base_uri": "https://localhost:8080/",
          "height": 268
        },
        "outputId": "b92f93c9-4aa6-4ade-8e8e-719bf5137e20"
      },
      "source": [
        "plt.scatter(all_comp_x, all_comp_y, label='comp', marker='o', s=100, edgecolors='gray')\n",
        "plt.scatter(server_cord[0], server_cord[1], label='server', marker='s', s=120, edgecolors='gray')\n",
        "\n",
        "plt.grid(alpha=.5)\n",
        "plt.legend()\n",
        "plt.show()"
      ],
      "execution_count": 240,
      "outputs": [
        {
          "output_type": "display_data",
          "data": {
            "image/png": "[encoded data removed]",
            "text/plain": [
              "<Figure size 432x288 with 1 Axes>"
            ]
          },
          "metadata": {
            "tags": [],
            "needs_background": "light"
          }
        }
      ]
    },
    {
      "cell_type": "code",
      "metadata": {
        "id": "Uzr3FgDMY9ky",
        "colab_type": "code",
        "colab": {
          "base_uri": "https://localhost:8080/",
          "height": 35
        },
        "outputId": "539ebeeb-bffe-4086-c632-02fd97902e6b"
      },
      "source": [
        "# Расчитаем стоимость оптоволокна, для варианта где мы не используем роутер.\n",
        "\n",
        "all_comp_opt_price = 0\n",
        "\n",
        "for x,y in zip(all_comp_x, all_comp_y):\n",
        "  len_ = np.sqrt((x - 0)**2 + (y - 0)**2)\n",
        "  all_comp_opt_price += len_ * price_opt\n",
        "\n",
        "print(f'Цена подключения всех компьютеров через оптоволокно напрямую к серверу = {np.sum(all_comp_opt_price).round(2)}')"
      ],
      "execution_count": 241,
      "outputs": [
        {
          "output_type": "stream",
          "text": [
            "Цена подключения всех компьютеров через оптоволокно напрямую к серверу = 791.75\n"
          ],
          "name": "stdout"
        }
      ]
    },
    {
      "cell_type": "code",
      "metadata": {
        "id": "o-a9_L9RdUFR",
        "colab_type": "code",
        "colab": {
          "base_uri": "https://localhost:8080/",
          "height": 268
        },
        "outputId": "5a2081c0-6993-494a-ccd2-a2d37b56ee1a"
      },
      "source": [
        "# найдем центроид среди компьютеров, тк выгоднее минимизировать расстояние\n",
        "# роутера до компьютеров\n",
        "\n",
        "router_xy = (np.sum(all_comp_x) / len(all_comp_x),\n",
        "             np.sum(all_comp_y) / len(all_comp_y))\n",
        "\n",
        "plt.scatter(all_comp_x, all_comp_y, label='comp', marker='o', s=100, edgecolors='gray')\n",
        "plt.scatter(server_cord[0], server_cord[1], label='server', marker='s', s=120, edgecolors='gray')\n",
        "plt.scatter(router_xy[0], router_xy[1], c='r', s=100, marker='D', label='router', edgecolors='gray')\n",
        "\n",
        "plt.grid(alpha=.5)\n",
        "plt.legend()\n",
        "plt.show()"
      ],
      "execution_count": 242,
      "outputs": [
        {
          "output_type": "display_data",
          "data": {
            "image/png": "[encoded data removed]",
            "text/plain": [
              "<Figure size 432x288 with 1 Axes>"
            ]
          },
          "metadata": {
            "tags": [],
            "needs_background": "light"
          }
        }
      ]
    },
    {
      "cell_type": "code",
      "metadata": {
        "id": "U7ON-WCdjYqq",
        "colab_type": "code",
        "colab": {
          "base_uri": "https://localhost:8080/",
          "height": 35
        },
        "outputId": "94f765fa-3215-4c50-d67b-c87d37ba3f31"
      },
      "source": [
        "# расчитаем стоимость подключения через роутер при том что он является центроидом компьютеров\n",
        "\n",
        "price_with_router = price_router\n",
        "\n",
        "for x,y in zip(all_comp_x, all_comp_y):\n",
        "  len_ = np.sqrt((router_xy[0] - x)**2 + (router_xy[1] - y)**2)\n",
        "  price_with_router += len_ * price_twp\n",
        "\n",
        "server_to_router_price = np.sqrt(router_xy[0]**2 + router_xy[1]**2)  *  price_opt\n",
        "\n",
        "print(f'цена подключения вместе с роутером на месте центроида = {(server_to_router_price + price_with_router).round(2)}')"
      ],
      "execution_count": 243,
      "outputs": [
        {
          "output_type": "stream",
          "text": [
            "цена подключения вместе с роутером = 2094.87\n"
          ],
          "name": "stdout"
        }
      ]
    },
    {
      "cell_type": "code",
      "metadata": {
        "id": "mJ9hDQtQcP3M",
        "colab_type": "code",
        "colab": {}
      },
      "source": [
        "# Мне стало лень каждый раз писать формулу\n",
        "\n",
        "def p2p(x1,x2,y1,y2):\n",
        "  return np.sqrt((x1 - x2)**2  +  (y1 - y2)**2)"
      ],
      "execution_count": 245,
      "outputs": []
    },
    {
      "cell_type": "code",
      "metadata": {
        "id": "UTPDWMm17F1b",
        "colab_type": "code",
        "colab": {}
      },
      "source": [
        "# Расчитаем итеративно поверхность ошибки.\n",
        "\n",
        "X, Y = np.arange(1, 26, 1), np.arange(1, 26, 1)\n",
        "\n",
        "err = []\n",
        "\n",
        "for x1 in X:\n",
        "  for y1 in Y:\n",
        "    cost = 0\n",
        "    for x2, y2 in zip(all_comp_x, all_comp_y):\n",
        "\n",
        "      _ = p2p(x1,x2,y1,y2) * price_twp\n",
        "      cost += _\n",
        "    \n",
        "    opt = p2p(x1,server_cord[0], y1, server_cord[1])\n",
        "    err.append((cost + price_router + opt).round(2))"
      ],
      "execution_count": 246,
      "outputs": []
    },
    {
      "cell_type": "code",
      "metadata": {
        "id": "r9vihiE9xIPN",
        "colab_type": "code",
        "colab": {}
      },
      "source": [
        "err = np.array(err)\n",
        "err = err.reshape(25, 25)"
      ],
      "execution_count": 247,
      "outputs": []
    },
    {
      "cell_type": "code",
      "metadata": {
        "id": "mEzGQSIOdPhM",
        "colab_type": "code",
        "colab": {}
      },
      "source": [
        "import seaborn as sns"
      ],
      "execution_count": 248,
      "outputs": []
    },
    {
      "cell_type": "code",
      "metadata": {
        "id": "XFKa8lo0YinZ",
        "colab_type": "code",
        "colab": {}
      },
      "source": [
        "# определим 25 минимальных значений\n",
        "sorted_ = np.sort(err.flatten())\n",
        "\n",
        "mins_xy = [],[]\n",
        "\n",
        "for i in sorted_[:25]:\n",
        "  idx = np.where(err == i)\n",
        "  mins_xy[0].append(idx[0][0])\n",
        "  mins_xy[1].append(idx[1][0])\n",
        "\n",
        "best_price = sorted_[0]"
      ],
      "execution_count": 297,
      "outputs": []
    },
    {
      "cell_type": "code",
      "metadata": {
        "id": "oQmBq0nANTfv",
        "colab_type": "code",
        "colab": {
          "base_uri": "https://localhost:8080/",
          "height": 579
        },
        "outputId": "858a9021-a62f-4374-f0d4-b9637b08d759"
      },
      "source": [
        "plt.figure(figsize=(10,10))\n",
        "\n",
        "plt.scatter(all_comp_x, all_comp_y, label='comp', marker='o', s=100, edgecolors='b')\n",
        "plt.scatter(server_cord[0], server_cord[1], label='server', marker='s', s=120, edgecolors='b')\n",
        "plt.scatter(router_xy[0], router_xy[1], c='r', s=100, marker='x', label='centroid', edgecolors='w')\n",
        "\n",
        "# Выделим область с К сегментов с минимальной стоимостью для отображения\n",
        "plt.scatter(mins_xy[0], mins_xy[1], alpha=.2, label='25 mins', edgecolors='gray')\n",
        "plt.scatter(mins_xy[0][0], mins_xy[1][0], label='minimum', edgecolors='gray', c='g')\n",
        "plt.imshow(err.T, cmap='gray')\n",
        "\n",
        "plt.legend(loc='best')\n",
        "plt.colorbar()\n",
        "plt.show()"
      ],
      "execution_count": 296,
      "outputs": [
        {
          "output_type": "display_data",
          "data": {
            "image/png": "[encoded data removed]",
            "text/plain": [
              "<Figure size 720x720 with 2 Axes>"
            ]
          },
          "metadata": {
            "tags": [],
            "needs_background": "light"
          }
        }
      ]
    },
    {
      "cell_type": "markdown",
      "metadata": {
        "id": "jf69zWfUU_Rz",
        "colab_type": "text"
      },
      "source": [
        "#! Как видно из расчетов - центроид - не самый выгодный вариант.\n",
        "# ярко зеленая точка - минимум ошибки => наименьшая цена из возможных вариантов."
      ]
    },
    {
      "cell_type": "code",
      "metadata": {
        "id": "2ijogyZ1NsYn",
        "colab_type": "code",
        "colab": {}
      },
      "source": [
        "import plotly.graph_objects as go\n",
        "import plotly.express as px"
      ],
      "execution_count": 277,
      "outputs": []
    },
    {
      "cell_type": "code",
      "metadata": {
        "id": "8AtNVCtiNpLL",
        "colab_type": "code",
        "colab": {
          "base_uri": "https://localhost:8080/",
          "height": 542
        },
        "outputId": "1c04d40c-08da-4c78-af27-22f2f7f9a406"
      },
      "source": [
        "fig = go.Figure(data=[go.Surface(z=err, colorscale='Gray')])\n",
        "\n",
        "fig.show()"
      ],
      "execution_count": 300,
      "outputs": [
        {
          "output_type": "display_data",
          "data": {
            "text/html": [
              "<html>\n",
              "<head><meta charset=\"utf-8\" /></head>\n",
              "<body>\n",
              "    <div>\n",
              "            <script src=\"https://cdnjs.cloudflare.com/ajax/libs/mathjax/2.7.5/MathJax.js?config=TeX-AMS-MML_SVG\"></script><script type=\"text/javascript\">if (window.MathJax) {MathJax.Hub.Config({SVG: {font: \"STIX-Web\"}});}</script>\n",
              "                <script type=\"text/javascript\">window.PlotlyConfig = {MathJaxConfig: 'local'};</script>\n",
              "        <script src=\"https://cdn.plot.ly/plotly-latest.min.js\"></script>    \n",
              "            <div id=\"23c07bcf-2f32-4128-bdcb-95b51360a8f4\" class=\"plotly-graph-div\" style=\"height:525px; width:100%;\"></div>\n",
              "            <script type=\"text/javascript\">\n",
              "                \n",
              "                    window.PLOTLYENV=window.PLOTLYENV || {};\n",
              "                    \n",
              "                if (document.getElementById(\"23c07bcf-2f32-4128-bdcb-95b51360a8f4\")) {\n",
              "                    Plotly.newPlot(\n",
              "                        '23c07bcf-2f32-4128-bdcb-95b51360a8f4',\n",
              "                        [{\"colorscale\": [[0.0, \"rgb(0, 0, 0)\"], [0.09090909090909091, \"rgb(16, 16, 16)\"], [0.18181818181818182, \"rgb(38, 38, 38)\"], [0.2727272727272727, \"rgb(59, 59, 59)\"], [0.36363636363636365, \"rgb(81, 80, 80)\"], [0.45454545454545453, \"rgb(102, 101, 101)\"], [0.5454545454545454, \"rgb(124, 123, 122)\"], [0.6363636363636364, \"rgb(146, 146, 145)\"], [0.7272727272727273, \"rgb(171, 171, 170)\"], [0.8181818181818182, \"rgb(197, 197, 195)\"], [0.9090909090909091, \"rgb(224, 224, 223)\"], [1.0, \"rgb(254, 254, 253)\"]], \"type\": \"surface\", \"z\": [[2867.23, 2820.93, 2777.8, 2737.9, 2701.31, 2668.11, 2638.35, 2612.06, 2589.24, 2569.89, 2553.97, 2541.45, 2532.31, 2526.5, 2524.04, 2524.94, 2529.3, 2537.27, 2549.09, 2565.13, 2585.86, 2611.83, 2643.61, 2681.6, 2725.88], [2804.79, 2757.04, 2712.65, 2671.68, 2634.2, 2600.26, 2569.93, 2543.2, 2520.08, 2500.52, 2484.49, 2471.9, 2462.71, 2456.83, 2454.24, 2454.92, 2458.92, 2466.37, 2477.5, 2492.72, 2512.61, 2537.96, 2569.63, 2608.33, 2654.27], [2744.06, 2694.89, 2649.23, 2607.16, 2568.77, 2534.12, 2503.26, 2476.17, 2452.85, 2433.23, 2417.22, 2404.74, 2395.67, 2389.9, 2387.35, 2387.95, 2391.7, 2398.66, 2409.04, 2423.22, 2441.87, 2466.05, 2497.1, 2536.32, 2584.19], [2685.07, 2634.48, 2587.53, 2544.35, 2505.07, 2469.74, 2438.41, 2411.08, 2387.69, 2368.16, 2352.37, 2340.19, 2331.46, 2326.04, 2323.77, 2324.53, 2328.23, 2334.88, 2344.56, 2357.57, 2374.58, 2396.81, 2426.35, 2465.66, 2515.94], [2627.9, 2575.84, 2527.57, 2483.28, 2443.11, 2407.15, 2375.45, 2347.98, 2324.69, 2305.44, 2290.1, 2278.47, 2270.37, 2265.58, 2263.9, 2265.15, 2269.17, 2275.83, 2285.1, 2297.1, 2312.25, 2331.67, 2358.08, 2396.49, 2450.24], [2572.66, 2519.06, 2469.42, 2423.99, 2382.94, 2346.4, 2314.42, 2286.97, 2263.96, 2245.22, 2230.58, 2219.8, 2212.63, 2208.83, 2208.14, 2210.31, 2215.11, 2222.34, 2231.82, 2243.44, 2257.24, 2273.62, 2294.53, 2328.92, 2389.3], [2519.48, 2464.22, 2413.13, 2366.5, 2324.58, 2287.52, 2255.38, 2228.1, 2205.58, 2187.62, 2173.97, 2164.35, 2158.49, 2156.07, 2156.8, 2160.39, 2166.57, 2175.09, 2185.69, 2198.16, 2212.31, 2227.95, 2244.93, 2263.1, 2342.33], [2468.52, 2411.46, 2358.79, 2310.89, 2268.07, 2230.54, 2198.35, 2171.44, 2149.66, 2132.75, 2120.41, 2112.31, 2108.12, 2107.5, 2110.12, 2115.67, 2123.87, 2134.45, 2147.23, 2162.06, 2178.95, 2198.31, 2222.06, 2259.16, 2322.11], [2419.99, 2360.93, 2306.5, 2257.2, 2213.44, 2175.48, 2143.38, 2117.06, 2096.29, 2080.74, 2070.05, 2063.84, 2061.71, 2063.31, 2068.27, 2076.28, 2087.08, 2100.46, 2116.31, 2134.71, 2156.03, 2181.39, 2213.47, 2257.27, 2316.15], [2374.14, 2312.82, 2256.39, 2205.51, 2160.73, 2122.38, 2090.54, 2065.05, 2045.59, 2031.75, 2023.06, 2019.1, 2019.41, 2023.61, 2031.32, 2042.24, 2056.12, 2072.83, 2092.35, 2114.93, 2141.16, 2172.24, 2210.23, 2257.59, 2315.52], [2331.34, 2267.43, 2208.66, 2155.93, 2109.99, 2071.3, 2039.91, 2015.56, 1997.77, 1985.98, 1979.66, 1978.28, 1981.38, 1988.52, 1999.33, 2013.5, 2030.81, 2051.15, 2074.6, 2101.46, 2132.33, 2168.21, 2210.43, 2260.29, 2318.26], [2292.09, 2225.17, 2163.59, 2108.59, 2061.28, 2022.3, 1991.65, 1968.83, 1953.1, 1943.73, 1940.1, 1941.63, 1947.81, 1958.18, 1972.36, 1990.01, 2010.93, 2035.04, 2062.42, 2093.37, 2128.39, 2168.22, 2213.7, 2265.54, 2323.95], [2257.08, 2186.67, 2121.62, 2063.71, 2014.69, 1975.55, 1946.08, 1925.29, 1912.05, 1905.44, 1904.76, 1909.44, 1918.93, 1932.76, 1950.48, 1971.76, 1996.36, 2024.22, 2055.38, 2090.1, 2128.76, 2171.88, 2220.01, 2273.52, 2332.54], [2227.34, 2152.93, 2083.55, 2021.7, 1970.39, 1931.36, 1903.84, 1885.73, 1875.36, 1871.71, 1874.13, 1882.09, 1895.05, 1912.47, 1933.85, 1958.8, 1987.07, 2018.54, 2053.26, 2091.39, 2133.23, 2179.13, 2229.45, 2284.42, 2344.09], [2204.24, 2125.58, 2050.9, 1983.38, 1928.58, 1890.5, 1866.3, 1851.56, 1844.14, 1843.32, 1848.75, 1860.02, 1876.53, 1897.63, 1922.71, 1951.31, 1983.13, 2018.02, 2055.99, 2097.17, 2141.76, 2190.02, 2242.18, 2298.4, 2358.68], [2189.54, 2107.1, 2026.85, 1951.18, 1889.61, 1855.35, 1836.54, 1825.04, 1819.81, 1821.14, 1829.21, 1843.69, 1863.79, 1888.62, 1917.4, 1949.54, 1984.72, 2022.75, 2063.65, 2107.49, 2154.43, 2204.67, 2258.36, 2315.62, 2376.43], [2184.89, 2100.43, 2016.91, 1934.62, 1853.94, 1835.47, 1820.08, 1808.99, 1803.76, 1805.86, 1815.98, 1833.59, 1857.38, 1885.99, 1918.37, 1953.87, 1992.11, 2032.94, 2076.37, 2122.47, 2171.37, 2223.22, 2278.14, 2336.22, 2397.45], [2191.18, 2107.2, 2025.0, 1946.87, 1882.25, 1844.25, 1821.13, 1805.23, 1796.72, 1797.7, 1809.33, 1830.3, 1858.04, 1890.45, 1926.24, 1964.73, 2005.63, 2048.83, 2094.34, 2142.26, 2192.7, 2245.8, 2301.65, 2360.32, 2421.83], [2208.04, 2126.46, 2048.09, 1975.95, 1915.37, 1870.17, 1837.53, 1813.63, 1798.55, 1796.2, 1809.53, 1834.85, 1866.94, 1902.97, 1941.7, 1982.65, 2025.64, 2070.64, 2117.72, 2166.98, 2218.54, 2272.52, 2328.99, 2388.02, 2449.62], [2234.28, 2155.86, 2081.47, 2013.36, 1954.24, 1905.55, 1866.25, 1834.37, 1809.84, 1800.44, 1818.04, 1849.63, 1885.92, 1924.75, 1965.52, 2008.08, 2052.41, 2098.56, 2146.63, 2196.74, 2248.98, 2303.45, 2360.23, 2419.37, 2480.88], [2268.5, 2193.4, 2122.54, 2057.46, 1999.61, 1949.64, 1906.98, 1870.28, 1838.1, 1809.32, 1843.19, 1879.23, 1917.16, 1956.84, 1998.22, 2041.28, 2086.07, 2132.65, 2181.11, 2231.53, 2284.01, 2338.61, 2395.39, 2454.39, 2515.6], [2309.55, 2237.7, 2170.1, 2107.81, 2051.75, 2002.39, 1959.66, 1923.37, 1894.69, 1881.85, 1896.81, 1926.49, 1961.47, 1999.47, 2039.79, 2082.18, 2126.52, 2172.81, 2221.05, 2271.3, 2323.58, 2377.94, 2434.42, 2493.03, 2553.77], [2356.48, 2287.81, 2223.36, 2163.94, 2110.28, 2062.91, 2022.3, 1989.27, 1966.06, 1957.2, 1965.6, 1987.38, 2017.08, 2051.63, 2089.6, 2130.31, 2173.42, 2218.77, 2266.26, 2315.86, 2367.56, 2421.36, 2477.26, 2535.25, 2595.31], [2408.51, 2342.96, 2281.62, 2225.17, 2174.3, 2129.64, 2091.93, 2062.3, 2042.52, 2034.75, 2039.88, 2056.24, 2080.93, 2111.53, 2146.49, 2184.89, 2226.2, 2270.1, 2316.39, 2364.97, 2415.75, 2468.7, 2523.77, 2580.93, 2640.14], [2465.0, 2402.49, 2344.19, 2290.74, 2242.76, 2200.96, 2166.11, 2139.23, 2121.51, 2114.05, 2117.11, 2129.8, 2150.44, 2177.34, 2209.17, 2244.99, 2284.16, 2326.27, 2371.05, 2418.3, 2467.9, 2519.75, 2573.78, 2629.93, 2688.13]]}],\n",
              "                        {\"template\": {\"data\": {\"bar\": [{\"error_x\": {\"color\": \"#2a3f5f\"}, \"error_y\": {\"color\": \"#2a3f5f\"}, \"marker\": {\"line\": {\"color\": \"#E5ECF6\", \"width\": 0.5}}, \"type\": \"bar\"}], \"barpolar\": [{\"marker\": {\"line\": {\"color\": \"#E5ECF6\", \"width\": 0.5}}, \"type\": \"barpolar\"}], \"carpet\": [{\"aaxis\": {\"endlinecolor\": \"#2a3f5f\", \"gridcolor\": \"white\", \"linecolor\": \"white\", \"minorgridcolor\": \"white\", \"startlinecolor\": \"#2a3f5f\"}, \"baxis\": {\"endlinecolor\": \"#2a3f5f\", \"gridcolor\": \"white\", \"linecolor\": \"white\", \"minorgridcolor\": \"white\", \"startlinecolor\": \"#2a3f5f\"}, \"type\": \"carpet\"}], \"choropleth\": [{\"colorbar\": {\"outlinewidth\": 0, \"ticks\": \"\"}, \"type\": \"choropleth\"}], \"contour\": [{\"colorbar\": {\"outlinewidth\": 0, \"ticks\": \"\"}, \"colorscale\": [[0.0, \"#0d0887\"], [0.1111111111111111, \"#46039f\"], [0.2222222222222222, \"#7201a8\"], [0.3333333333333333, \"#9c179e\"], [0.4444444444444444, \"#bd3786\"], [0.5555555555555556, \"#d8576b\"], [0.6666666666666666, \"#ed7953\"], [0.7777777777777778, \"#fb9f3a\"], [0.8888888888888888, \"#fdca26\"], [1.0, \"#f0f921\"]], \"type\": \"contour\"}], \"contourcarpet\": [{\"colorbar\": {\"outlinewidth\": 0, \"ticks\": \"\"}, \"type\": \"contourcarpet\"}], \"heatmap\": [{\"colorbar\": {\"outlinewidth\": 0, \"ticks\": \"\"}, \"colorscale\": [[0.0, \"#0d0887\"], [0.1111111111111111, \"#46039f\"], [0.2222222222222222, \"#7201a8\"], [0.3333333333333333, \"#9c179e\"], [0.4444444444444444, \"#bd3786\"], [0.5555555555555556, \"#d8576b\"], [0.6666666666666666, \"#ed7953\"], [0.7777777777777778, \"#fb9f3a\"], [0.8888888888888888, \"#fdca26\"], [1.0, \"#f0f921\"]], \"type\": \"heatmap\"}], \"heatmapgl\": [{\"colorbar\": {\"outlinewidth\": 0, \"ticks\": \"\"}, \"colorscale\": [[0.0, \"#0d0887\"], [0.1111111111111111, \"#46039f\"], [0.2222222222222222, \"#7201a8\"], [0.3333333333333333, \"#9c179e\"], [0.4444444444444444, \"#bd3786\"], [0.5555555555555556, \"#d8576b\"], [0.6666666666666666, \"#ed7953\"], [0.7777777777777778, \"#fb9f3a\"], [0.8888888888888888, \"#fdca26\"], [1.0, \"#f0f921\"]], \"type\": \"heatmapgl\"}], \"histogram\": [{\"marker\": {\"colorbar\": {\"outlinewidth\": 0, \"ticks\": \"\"}}, \"type\": \"histogram\"}], \"histogram2d\": [{\"colorbar\": {\"outlinewidth\": 0, \"ticks\": \"\"}, \"colorscale\": [[0.0, \"#0d0887\"], [0.1111111111111111, \"#46039f\"], [0.2222222222222222, \"#7201a8\"], [0.3333333333333333, \"#9c179e\"], [0.4444444444444444, \"#bd3786\"], [0.5555555555555556, \"#d8576b\"], [0.6666666666666666, \"#ed7953\"], [0.7777777777777778, \"#fb9f3a\"], [0.8888888888888888, \"#fdca26\"], [1.0, \"#f0f921\"]], \"type\": \"histogram2d\"}], \"histogram2dcontour\": [{\"colorbar\": {\"outlinewidth\": 0, \"ticks\": \"\"}, \"colorscale\": [[0.0, \"#0d0887\"], [0.1111111111111111, \"#46039f\"], [0.2222222222222222, \"#7201a8\"], [0.3333333333333333, \"#9c179e\"], [0.4444444444444444, \"#bd3786\"], [0.5555555555555556, \"#d8576b\"], [0.6666666666666666, \"#ed7953\"], [0.7777777777777778, \"#fb9f3a\"], [0.8888888888888888, \"#fdca26\"], [1.0, \"#f0f921\"]], \"type\": \"histogram2dcontour\"}], \"mesh3d\": [{\"colorbar\": {\"outlinewidth\": 0, \"ticks\": \"\"}, \"type\": \"mesh3d\"}], \"parcoords\": [{\"line\": {\"colorbar\": {\"outlinewidth\": 0, \"ticks\": \"\"}}, \"type\": \"parcoords\"}], \"pie\": [{\"automargin\": true, \"type\": \"pie\"}], \"scatter\": [{\"marker\": {\"colorbar\": {\"outlinewidth\": 0, \"ticks\": \"\"}}, \"type\": \"scatter\"}], \"scatter3d\": [{\"line\": {\"colorbar\": {\"outlinewidth\": 0, \"ticks\": \"\"}}, \"marker\": {\"colorbar\": {\"outlinewidth\": 0, \"ticks\": \"\"}}, \"type\": \"scatter3d\"}], \"scattercarpet\": [{\"marker\": {\"colorbar\": {\"outlinewidth\": 0, \"ticks\": \"\"}}, \"type\": \"scattercarpet\"}], \"scattergeo\": [{\"marker\": {\"colorbar\": {\"outlinewidth\": 0, \"ticks\": \"\"}}, \"type\": \"scattergeo\"}], \"scattergl\": [{\"marker\": {\"colorbar\": {\"outlinewidth\": 0, \"ticks\": \"\"}}, \"type\": \"scattergl\"}], \"scattermapbox\": [{\"marker\": {\"colorbar\": {\"outlinewidth\": 0, \"ticks\": \"\"}}, \"type\": \"scattermapbox\"}], \"scatterpolar\": [{\"marker\": {\"colorbar\": {\"outlinewidth\": 0, \"ticks\": \"\"}}, \"type\": \"scatterpolar\"}], \"scatterpolargl\": [{\"marker\": {\"colorbar\": {\"outlinewidth\": 0, \"ticks\": \"\"}}, \"type\": \"scatterpolargl\"}], \"scatterternary\": [{\"marker\": {\"colorbar\": {\"outlinewidth\": 0, \"ticks\": \"\"}}, \"type\": \"scatterternary\"}], \"surface\": [{\"colorbar\": {\"outlinewidth\": 0, \"ticks\": \"\"}, \"colorscale\": [[0.0, \"#0d0887\"], [0.1111111111111111, \"#46039f\"], [0.2222222222222222, \"#7201a8\"], [0.3333333333333333, \"#9c179e\"], [0.4444444444444444, \"#bd3786\"], [0.5555555555555556, \"#d8576b\"], [0.6666666666666666, \"#ed7953\"], [0.7777777777777778, \"#fb9f3a\"], [0.8888888888888888, \"#fdca26\"], [1.0, \"#f0f921\"]], \"type\": \"surface\"}], \"table\": [{\"cells\": {\"fill\": {\"color\": \"#EBF0F8\"}, \"line\": {\"color\": \"white\"}}, \"header\": {\"fill\": {\"color\": \"#C8D4E3\"}, \"line\": {\"color\": \"white\"}}, \"type\": \"table\"}]}, \"layout\": {\"annotationdefaults\": {\"arrowcolor\": \"#2a3f5f\", \"arrowhead\": 0, \"arrowwidth\": 1}, \"coloraxis\": {\"colorbar\": {\"outlinewidth\": 0, \"ticks\": \"\"}}, \"colorscale\": {\"diverging\": [[0, \"#8e0152\"], [0.1, \"#c51b7d\"], [0.2, \"#de77ae\"], [0.3, \"#f1b6da\"], [0.4, \"#fde0ef\"], [0.5, \"#f7f7f7\"], [0.6, \"#e6f5d0\"], [0.7, \"#b8e186\"], [0.8, \"#7fbc41\"], [0.9, \"#4d9221\"], [1, \"#276419\"]], \"sequential\": [[0.0, \"#0d0887\"], [0.1111111111111111, \"#46039f\"], [0.2222222222222222, \"#7201a8\"], [0.3333333333333333, \"#9c179e\"], [0.4444444444444444, \"#bd3786\"], [0.5555555555555556, \"#d8576b\"], [0.6666666666666666, \"#ed7953\"], [0.7777777777777778, \"#fb9f3a\"], [0.8888888888888888, \"#fdca26\"], [1.0, \"#f0f921\"]], \"sequentialminus\": [[0.0, \"#0d0887\"], [0.1111111111111111, \"#46039f\"], [0.2222222222222222, \"#7201a8\"], [0.3333333333333333, \"#9c179e\"], [0.4444444444444444, \"#bd3786\"], [0.5555555555555556, \"#d8576b\"], [0.6666666666666666, \"#ed7953\"], [0.7777777777777778, \"#fb9f3a\"], [0.8888888888888888, \"#fdca26\"], [1.0, \"#f0f921\"]]}, \"colorway\": [\"#636efa\", \"#EF553B\", \"#00cc96\", \"#ab63fa\", \"#FFA15A\", \"#19d3f3\", \"#FF6692\", \"#B6E880\", \"#FF97FF\", \"#FECB52\"], \"font\": {\"color\": \"#2a3f5f\"}, \"geo\": {\"bgcolor\": \"white\", \"lakecolor\": \"white\", \"landcolor\": \"#E5ECF6\", \"showlakes\": true, \"showland\": true, \"subunitcolor\": \"white\"}, \"hoverlabel\": {\"align\": \"left\"}, \"hovermode\": \"closest\", \"mapbox\": {\"style\": \"light\"}, \"paper_bgcolor\": \"white\", \"plot_bgcolor\": \"#E5ECF6\", \"polar\": {\"angularaxis\": {\"gridcolor\": \"white\", \"linecolor\": \"white\", \"ticks\": \"\"}, \"bgcolor\": \"#E5ECF6\", \"radialaxis\": {\"gridcolor\": \"white\", \"linecolor\": \"white\", \"ticks\": \"\"}}, \"scene\": {\"xaxis\": {\"backgroundcolor\": \"#E5ECF6\", \"gridcolor\": \"white\", \"gridwidth\": 2, \"linecolor\": \"white\", \"showbackground\": true, \"ticks\": \"\", \"zerolinecolor\": \"white\"}, \"yaxis\": {\"backgroundcolor\": \"#E5ECF6\", \"gridcolor\": \"white\", \"gridwidth\": 2, \"linecolor\": \"white\", \"showbackground\": true, \"ticks\": \"\", \"zerolinecolor\": \"white\"}, \"zaxis\": {\"backgroundcolor\": \"#E5ECF6\", \"gridcolor\": \"white\", \"gridwidth\": 2, \"linecolor\": \"white\", \"showbackground\": true, \"ticks\": \"\", \"zerolinecolor\": \"white\"}}, \"shapedefaults\": {\"line\": {\"color\": \"#2a3f5f\"}}, \"ternary\": {\"aaxis\": {\"gridcolor\": \"white\", \"linecolor\": \"white\", \"ticks\": \"\"}, \"baxis\": {\"gridcolor\": \"white\", \"linecolor\": \"white\", \"ticks\": \"\"}, \"bgcolor\": \"#E5ECF6\", \"caxis\": {\"gridcolor\": \"white\", \"linecolor\": \"white\", \"ticks\": \"\"}}, \"title\": {\"x\": 0.05}, \"xaxis\": {\"automargin\": true, \"gridcolor\": \"white\", \"linecolor\": \"white\", \"ticks\": \"\", \"title\": {\"standoff\": 15}, \"zerolinecolor\": \"white\", \"zerolinewidth\": 2}, \"yaxis\": {\"automargin\": true, \"gridcolor\": \"white\", \"linecolor\": \"white\", \"ticks\": \"\", \"title\": {\"standoff\": 15}, \"zerolinecolor\": \"white\", \"zerolinewidth\": 2}}}},\n",
              "                        {\"responsive\": true}\n",
              "                    ).then(function(){\n",
              "                            \n",
              "var gd = document.getElementById('23c07bcf-2f32-4128-bdcb-95b51360a8f4');\n",
              "var x = new MutationObserver(function (mutations, observer) {{\n",
              "        var display = window.getComputedStyle(gd).display;\n",
              "        if (!display || display === 'none') {{\n",
              "            console.log([gd, 'removed!']);\n",
              "            Plotly.purge(gd);\n",
              "            observer.disconnect();\n",
              "        }}\n",
              "}});\n",
              "\n",
              "// Listen for the removal of the full notebook cells\n",
              "var notebookContainer = gd.closest('#notebook-container');\n",
              "if (notebookContainer) {{\n",
              "    x.observe(notebookContainer, {childList: true});\n",
              "}}\n",
              "\n",
              "// Listen for the clearing of the current output cell\n",
              "var outputEl = gd.closest('.output');\n",
              "if (outputEl) {{\n",
              "    x.observe(outputEl, {childList: true});\n",
              "}}\n",
              "\n",
              "                        })\n",
              "                };\n",
              "                \n",
              "            </script>\n",
              "        </div>\n",
              "</body>\n",
              "</html>"
            ]
          },
          "metadata": {
            "tags": []
          }
        }
      ]
    },
    {
      "cell_type": "markdown",
      "metadata": {
        "id": "Em5Yk0IcZqSN",
        "colab_type": "text"
      },
      "source": [
        "# Итог:"
      ]
    },
    {
      "cell_type": "code",
      "metadata": {
        "id": "JVOrGVquY2I7",
        "colab_type": "code",
        "colab": {
          "base_uri": "https://localhost:8080/",
          "height": 71
        },
        "outputId": "64ef5ddc-c1d1-4fe9-cfeb-d246a23f5b14"
      },
      "source": [
        "print(f'Цена подключения всех компьютеров через оптоволокно напрямую к серверу = {np.sum(all_comp_opt_price).round(2)}')\n",
        "print(f'Цена при оптимальном расположении роутера = {best_price}')\n",
        "print(f'цена подключения вместе с роутером на месте центроида = {(server_to_router_price + price_with_router).round(2)}')"
      ],
      "execution_count": 301,
      "outputs": [
        {
          "output_type": "stream",
          "text": [
            "Цена подключения всех компьютеров через оптоволокно напрямую к серверу = 791.75\n",
            "Цена при оптимальном расположении роутера = 1796.2\n",
            "цена подключения вместе с роутером на месте центроида = 2094.87\n"
          ],
          "name": "stdout"
        }
      ]
    }
  ]
}